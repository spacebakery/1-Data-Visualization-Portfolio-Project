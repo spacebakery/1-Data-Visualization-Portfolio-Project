{
 "cells": [
  {
   "cell_type": "markdown",
   "metadata": {},
   "source": [
    "# Group Project: Life Expectancy and GDP\n",
    "You can learn a lot on your own, but you can learn even more when you collaborate with others!\n"
   ]
  },
  {
   "cell_type": "markdown",
   "metadata": {},
   "source": [
    "## Group Projects in the Data Science Paths\n",
    "As part of this Path, you will have the opportunity to connect with other learners to practice and apply your new skills. This is optional! We will sometimes prompt you to work with peers, but you should feel free to work with others as often as you like to gain practice!\n",
    "\n",
    "### How to Conduct a Group Project\n",
    "#### Step One – Understand the Project\n",
    "Select what you would like to work on together. We suggest [Life Expectancy and GDP](https://www.codecademy.com/paths/data-science/tracks/dscp-data-visualization-portfolio-project/modules/dscp-life-expectancy-and-gdp/kanban_projects/life-expectancy-and-gdp-portfolio-project), which will help you to collaborate on creating a full data analysis project using pandas, Matplotlib, and seaborn. Alternatively, you can work on your own data analysis project that uses pandas, Matplotlib, and seaborn.\n",
    "\n",
    "Assess the prompt or project requirements:\n",
    "\n",
    "- What technical skill sets do you need to complete the project? Will you need data analysis, data engineering, visualization and subject matter expertise?\n",
    "- How advanced a skillset in each is required and how much work is there to go around?\n",
    "\n",
    "From here you’ll know which roles your project needs and how many people are necessary. Depending on the size and complexity of the project, you may only need one other person or you may need four or more collaborators.\n",
    "\n",
    "#### Step Two – Find Your Teammates\n",
    "Find collaborators! [Visit your group](http://codecademy.com/cohorts/data-science?_gl=1*12u6tks*_ga*MzA1MzY2NTY3OC4xNzA4MTE2MDgx*_ga_3LRZM6TM9L*MTcwODExNjY2Ni4xLjEuMTcwODExNzc5Mi4zMy4wLjA.). You can also find collaborators in the [data-science channel in Codecademy’s Discord server](https://discord.gg/QBn5MxG). If you are still looking for others to work with, check out the Codecademy [Facebook group](https://www.facebook.com/groups/codecademy.community/), your local [Codecademy Chapter](http://community.codecademy.com/?_gl=1*1xoazah*_ga*MzA1MzY2NTY3OC4xNzA4MTE2MDgx*_ga_3LRZM6TM9L*MTcwODExNjY2Ni4xLjEuMTcwODExNzc5Mi4zMy4wLjA.), or local meetups.\n",
    "\n",
    "When you arrive, be sure to introduce yourself with the following information:\n",
    "\n",
    "- What % of the path you have completed\n",
    "- What timezone or country you’re in\n",
    "- A link to your Codecademy Profile\n",
    "- One fun fact about yourself\n",
    "\n",
    "#### Step Three – Build Your Team\n",
    "Now that you’ve found people to work with, the next step is to figure out how each of you would like to contribute to this project.\n",
    "\n",
    "These are some different roles that you and your teammates could take. Also, one person can have more than one role and more than one person could have the same role.\n",
    "\n",
    "- Product Manager who also codes. This person makes decisions about what features will be built and in which order. Data Science Product Managers keep the team organized and on track to be sure everything gets done. To learn a lot more about being a team leader, [please see this post](https://discuss.codecademy.com/t/what-does-a-project-manager-do/568547?_gl=1*3pn6mm*_ga*MzA1MzY2NTY3OC4xNzA4MTE2MDgx*_ga_3LRZM6TM9L*MTcwODExNjY2Ni4xLjEuMTcwODExODkxNS42MC4wLjA.).\n",
    "- Data Engineer. This person manages the data, making sure it is clean, reliable, and accessible. This role typically maintains the data standards and ensures consistency across a project.\n",
    "- Data Scientist. This person draws on one or more data sets to generate insights, and uses hypothesis testing to answer questions. They may create visualizations, conduct exploratory analyses, or use summary statistics to describe data. They may also use predictive statistics and machine learning to make predictions from the data.\n",
    "- Subject Matter Expert who also codes. This person situates datasets within their real-world context to ensure that the team is asking the right questions and interpreting the results accurately.\n",
    "\n",
    "Think you may want to build something more complex? [Check out this article to see what a more specialized team looks like](https://docs.microsoft.com/en-us/azure/machine-learning/team-data-science-process/roles-tasks).\n",
    "\n",
    "#### Step Four – Get to Work\n",
    "Get to it! Have a kick-off meeting, ideally over a video chat platform, so you can all meet one another and discuss the project.\n",
    "\n",
    "Remember that if and when you get stuck, you can lean on each other to get through problems. In the real world, analysts troubleshoot their own work first with tried and true methods, but they often ask teammates for help too. If your teammates can’t help, reach out to your group or in the [Discord server](https://discord.com/invite/codecademy).\n",
    "\n",
    "Sometimes, life happens. Even in the “real world” workplace, people get sick or leave projects. If someone leaves your group and you need a replacement, post in the Discord server and the community will try to help you out.\n",
    "\n",
    "#### Step Five – Share!\n",
    "If you completed the [Life Expectancy and GDP](https://www.codecademy.com/paths/data-science/tracks/dscp-data-visualization-portfolio-project/modules/dscp-life-expectancy-and-gdp/kanban_projects/life-expectancy-and-gdp-portfolio-project) Project, share it with fellow learners on its [forum page](https://discuss.codecademy.com/c/project/portfolio-project-life-expectancy-and-gdp/1910?_gl=1*1nozn5z*_ga*MzA1MzY2NTY3OC4xNzA4MTE2MDgx*_ga_3LRZM6TM9L*MTcwODExNjY2Ni4xLjEuMTcwODExOTA3MC42MC4wLjA.). If you choose to do another project, post your project in [the Projects category](https://discuss.codecademy.com/c/project/1833?_gl=1*1nozn5z*_ga*MzA1MzY2NTY3OC4xNzA4MTE2MDgx*_ga_3LRZM6TM9L*MTcwODExNjY2Ni4xLjEuMTcwODExOTA3MC42MC4wLjA.) and share it with the other learners in your group or on Discord! Getting feedback is a vital part of the development process and will help you grow your skills. Remember to give back to other people wanting feedback or guidance, not just because it’s a good thing to do, but you’ll also benefit by explaining to others what you’ve learned.\n",
    "\n",
    "If you’re feeling generous, don’t just share your work but share your insights and guidance for the next team tackling something similar. Paying it forward and giving back is how the developer world works – [entire systems have been built this way](https://en.wikipedia.org/wiki/History_of_Linux)."
   ]
  }
 ],
 "metadata": {
  "language_info": {
   "name": "python"
  }
 },
 "nbformat": 4,
 "nbformat_minor": 2
}
